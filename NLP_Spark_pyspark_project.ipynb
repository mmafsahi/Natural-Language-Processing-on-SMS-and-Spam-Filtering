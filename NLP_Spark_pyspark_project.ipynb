{
  "nbformat": 4,
  "nbformat_minor": 0,
  "metadata": {
    "colab": {
      "name": "Afsahi1_iaf603_final_project.ipynb",
      "provenance": []
    },
    "kernelspec": {
      "name": "python3",
      "display_name": "Python 3"
    }
  },
  "cells": [
    {
      "cell_type": "code",
      "metadata": {
        "id": "BMW3s8IJtiyG"
      },
      "source": [
        "from google.colab import drive"
      ],
      "execution_count": 1,
      "outputs": []
    },
    {
      "cell_type": "code",
      "metadata": {
        "id": "TA_-p_ReuXLy",
        "outputId": "875dfd11-a144-4625-c217-d9eb6d312728",
        "colab": {
          "base_uri": "https://localhost:8080/"
        }
      },
      "source": [
        "drive.mount('/content/drive')"
      ],
      "execution_count": 2,
      "outputs": [
        {
          "output_type": "stream",
          "text": [
            "Mounted at /content/drive\n"
          ],
          "name": "stdout"
        }
      ]
    },
    {
      "cell_type": "code",
      "metadata": {
        "id": "h7IWNXKFxSdg",
        "outputId": "df35d109-8c3d-40aa-d1ba-04b7b100d886",
        "colab": {
          "base_uri": "https://localhost:8080/"
        }
      },
      "source": [
        " !apt-get update"
      ],
      "execution_count": 3,
      "outputs": [
        {
          "output_type": "stream",
          "text": [
            "\r0% [Working]\r            \rIgn:1 https://developer.download.nvidia.com/compute/cuda/repos/ubuntu1804/x86_64  InRelease\n",
            "\r0% [Waiting for headers] [Waiting for headers] [Waiting for headers] [Waiting f\r                                                                               \rGet:2 https://cloud.r-project.org/bin/linux/ubuntu bionic-cran40/ InRelease [3,626 B]\n",
            "\r0% [Waiting for headers] [Waiting for headers] [2 InRelease 3,626 B/3,626 B 100\r0% [Waiting for headers] [Waiting for headers] [Waiting for headers] [Waiting f\r0% [2 InRelease gpgv 3,626 B] [Waiting for headers] [Waiting for headers] [Wait\r                                                                               \rGet:3 http://ppa.launchpad.net/c2d4u.team/c2d4u4.0+/ubuntu bionic InRelease [15.9 kB]\n",
            "\r0% [2 InRelease gpgv 3,626 B] [Waiting for headers] [Waiting for headers] [3 In\r                                                                               \rIgn:4 https://developer.download.nvidia.com/compute/machine-learning/repos/ubuntu1804/x86_64  InRelease\n",
            "\r0% [2 InRelease gpgv 3,626 B] [Waiting for headers] [Waiting for headers] [3 In\r                                                                               \rGet:5 http://security.ubuntu.com/ubuntu bionic-security InRelease [88.7 kB]\n",
            "Get:6 https://developer.download.nvidia.com/compute/cuda/repos/ubuntu1804/x86_64  Release [697 B]\n",
            "Get:7 https://developer.download.nvidia.com/compute/machine-learning/repos/ubuntu1804/x86_64  Release [564 B]\n",
            "Hit:8 http://archive.ubuntu.com/ubuntu bionic InRelease\n",
            "Get:9 https://developer.download.nvidia.com/compute/cuda/repos/ubuntu1804/x86_64  Release.gpg [836 B]\n",
            "Get:10 https://developer.download.nvidia.com/compute/machine-learning/repos/ubuntu1804/x86_64  Release.gpg [833 B]\n",
            "Get:11 http://archive.ubuntu.com/ubuntu bionic-updates InRelease [88.7 kB]\n",
            "Get:12 http://ppa.launchpad.net/graphics-drivers/ppa/ubuntu bionic InRelease [21.3 kB]\n",
            "Get:13 http://archive.ubuntu.com/ubuntu bionic-backports InRelease [74.6 kB]\n",
            "Ign:14 https://developer.download.nvidia.com/compute/cuda/repos/ubuntu1804/x86_64  Packages\n",
            "Get:14 https://developer.download.nvidia.com/compute/cuda/repos/ubuntu1804/x86_64  Packages [407 kB]\n",
            "Get:15 https://developer.download.nvidia.com/compute/machine-learning/repos/ubuntu1804/x86_64  Packages [58.5 kB]\n",
            "Get:16 http://ppa.launchpad.net/c2d4u.team/c2d4u4.0+/ubuntu bionic/main Sources [1,688 kB]\n",
            "Get:17 http://security.ubuntu.com/ubuntu bionic-security/universe amd64 Packages [1,365 kB]\n",
            "Get:18 http://archive.ubuntu.com/ubuntu bionic-updates/restricted amd64 Packages [247 kB]\n",
            "Get:19 http://security.ubuntu.com/ubuntu bionic-security/main amd64 Packages [1,781 kB]\n",
            "Get:20 http://archive.ubuntu.com/ubuntu bionic-updates/main amd64 Packages [2,198 kB]\n",
            "Get:21 http://security.ubuntu.com/ubuntu bionic-security/multiverse amd64 Packages [15.8 kB]\n",
            "Get:22 http://security.ubuntu.com/ubuntu bionic-security/restricted amd64 Packages [222 kB]\n",
            "Get:23 http://ppa.launchpad.net/c2d4u.team/c2d4u4.0+/ubuntu bionic/main amd64 Packages [864 kB]\n",
            "Get:24 http://archive.ubuntu.com/ubuntu bionic-updates/multiverse amd64 Packages [46.3 kB]\n",
            "Get:25 http://archive.ubuntu.com/ubuntu bionic-updates/universe amd64 Packages [2,129 kB]\n",
            "Get:26 http://ppa.launchpad.net/graphics-drivers/ppa/ubuntu bionic/main amd64 Packages [46.6 kB]\n",
            "Fetched 11.4 MB in 3s (3,533 kB/s)\n",
            "Reading package lists... Done\n"
          ],
          "name": "stdout"
        }
      ]
    },
    {
      "cell_type": "code",
      "metadata": {
        "id": "Gqb3TxtQ90DJ"
      },
      "source": [
        "# Installing the spark and all related tools\n",
        "\n",
        "!apt-get install openjdk-8-jdk-headless -qq > /dev/null\n",
        "!wget -q https://www-us.apache.org/dist/spark/spark-3.0.1/spark-3.0.1-bin-hadoop2.7.tgz\n",
        "!tar xf spark-3.0.1-bin-hadoop2.7.tgz\n",
        "!pip install -q findspark"
      ],
      "execution_count": 4,
      "outputs": []
    },
    {
      "cell_type": "code",
      "metadata": {
        "id": "GixTmTC9-0pQ"
      },
      "source": [
        "# setting the environment\n",
        "import os\n",
        "os.environ[\"JAVA_HOME\"] = \"/usr/lib/jvm/java-8-openjdk-amd64\"\n",
        "os.environ[\"SPARK_HOME\"] = \"/content/spark-3.0.3-bin-hadoop2.7\""
      ],
      "execution_count": 5,
      "outputs": []
    },
    {
      "cell_type": "code",
      "metadata": {
        "id": "569K75Psu1T-"
      },
      "source": [
        "# Iniating the spark on this notebook\n",
        "import findspark"
      ],
      "execution_count": 6,
      "outputs": []
    },
    {
      "cell_type": "code",
      "metadata": {
        "id": "8QrLq2IPwJw4"
      },
      "source": [
        "findspark.init('/content/spark-3.0.1-bin-hadoop2.7')"
      ],
      "execution_count": 7,
      "outputs": []
    },
    {
      "cell_type": "code",
      "metadata": {
        "id": "IxPWBNXXwNKV"
      },
      "source": [
        "from pyspark.sql import SparkSession"
      ],
      "execution_count": 8,
      "outputs": []
    },
    {
      "cell_type": "markdown",
      "metadata": {
        "id": "Kh6IX1sbO778"
      },
      "source": [
        "#Spark "
      ]
    },
    {
      "cell_type": "code",
      "metadata": {
        "id": "BeK_n9N-wVT9"
      },
      "source": [
        "spark=SparkSession.builder.appName('final_project').getOrCreate()\n"
      ],
      "execution_count": 9,
      "outputs": []
    },
    {
      "cell_type": "markdown",
      "metadata": {
        "id": "5iEQMqA6PE1N"
      },
      "source": [
        "## Reading the Data from Cloud\n",
        "\n",
        "\n",
        "\n"
      ]
    },
    {
      "cell_type": "code",
      "metadata": {
        "id": "Fzb9j1q4wrz5"
      },
      "source": [
        "df=spark.read.csv('/content/drive/My Drive/Colab Notebooks/data/SMSSpamCollection',inferSchema=True,sep='\\t')"
      ],
      "execution_count": 12,
      "outputs": []
    },
    {
      "cell_type": "code",
      "metadata": {
        "id": "ChJB4anHyiCD",
        "outputId": "1671999e-eedf-4f3f-cd46-ad8bcbb35f43",
        "colab": {
          "base_uri": "https://localhost:8080/"
        }
      },
      "source": [
        "df.printSchema()"
      ],
      "execution_count": 13,
      "outputs": [
        {
          "output_type": "stream",
          "text": [
            "root\n",
            " |-- _c0: string (nullable = true)\n",
            " |-- _c1: string (nullable = true)\n",
            "\n"
          ],
          "name": "stdout"
        }
      ]
    },
    {
      "cell_type": "code",
      "metadata": {
        "id": "KVV7PQZey4eq",
        "outputId": "2ae8f6f4-d835-4589-95ea-c5640840ad90",
        "colab": {
          "base_uri": "https://localhost:8080/"
        }
      },
      "source": [
        "df.show(50,truncate=False)"
      ],
      "execution_count": 14,
      "outputs": [
        {
          "output_type": "stream",
          "text": [
            "+----+----------------------------------------------------------------------------------------------------------------------------------------------------------------------------------------------------+\n",
            "|_c0 |_c1                                                                                                                                                                                                 |\n",
            "+----+----------------------------------------------------------------------------------------------------------------------------------------------------------------------------------------------------+\n",
            "|ham |Go until jurong point, crazy.. Available only in bugis n great world la e buffet... Cine there got amore wat...                                                                                     |\n",
            "|ham |Ok lar... Joking wif u oni...                                                                                                                                                                       |\n",
            "|spam|Free entry in 2 a wkly comp to win FA Cup final tkts 21st May 2005. Text FA to 87121 to receive entry question(std txt rate)T&C's apply 08452810075over18's                                         |\n",
            "|ham |U dun say so early hor... U c already then say...                                                                                                                                                   |\n",
            "|ham |Nah I don't think he goes to usf, he lives around here though                                                                                                                                       |\n",
            "|spam|FreeMsg Hey there darling it's been 3 week's now and no word back! I'd like some fun you up for it still? Tb ok! XxX std chgs to send, £1.50 to rcv                                                 |\n",
            "|ham |Even my brother is not like to speak with me. They treat me like aids patent.                                                                                                                       |\n",
            "|ham |As per your request 'Melle Melle (Oru Minnaminunginte Nurungu Vettam)' has been set as your callertune for all Callers. Press *9 to copy your friends Callertune                                    |\n",
            "|spam|WINNER!! As a valued network customer you have been selected to receivea £900 prize reward! To claim call 09061701461. Claim code KL341. Valid 12 hours only.                                       |\n",
            "|spam|Had your mobile 11 months or more? U R entitled to Update to the latest colour mobiles with camera for Free! Call The Mobile Update Co FREE on 08002986030                                          |\n",
            "|ham |I'm gonna be home soon and i don't want to talk about this stuff anymore tonight, k? I've cried enough today.                                                                                       |\n",
            "|spam|SIX chances to win CASH! From 100 to 20,000 pounds txt> CSH11 and send to 87575. Cost 150p/day, 6days, 16+ TsandCs apply Reply HL 4 info                                                            |\n",
            "|spam|URGENT! You have won a 1 week FREE membership in our £100,000 Prize Jackpot! Txt the word: CLAIM to No: 81010 T&C www.dbuk.net LCCLTD POBOX 4403LDNW1A7RW18                                         |\n",
            "|ham |I've been searching for the right words to thank you for this breather. I promise i wont take your help for granted and will fulfil my promise. You have been wonderful and a blessing at all times.|\n",
            "|ham |I HAVE A DATE ON SUNDAY WITH WILL!!                                                                                                                                                                 |\n",
            "|spam|XXXMobileMovieClub: To use your credit, click the WAP link in the next txt message or click here>> http://wap. xxxmobilemovieclub.com?n=QJKGIGHJJGCBL                                               |\n",
            "|ham |Oh k...i'm watching here:)                                                                                                                                                                          |\n",
            "|ham |Eh u remember how 2 spell his name... Yes i did. He v naughty make until i v wet.                                                                                                                   |\n",
            "|ham |Fine if thats the way u feel. Thats the way its gota b                                                                                                                                            |\n",
            "|spam|England v Macedonia - dont miss the goals/team news. Txt ur national team to 87077 eg ENGLAND to 87077 Try:WALES, SCOTLAND 4txt/ú1.20 POBOXox36504W45WQ 16+                                         |\n",
            "|ham |Is that seriously how you spell his name?                                                                                                                                                           |\n",
            "|ham |I‘m going to try for 2 months ha ha only joking                                                                                                                                                     |\n",
            "|ham |So ü pay first lar... Then when is da stock comin...                                                                                                                                                |\n",
            "|ham |Aft i finish my lunch then i go str down lor. Ard 3 smth lor. U finish ur lunch already?                                                                                                            |\n",
            "|ham |Ffffffffff. Alright no way I can meet up with you sooner?                                                                                                                                           |\n",
            "|ham |Just forced myself to eat a slice. I'm really not hungry tho. This sucks. Mark is getting worried. He knows I'm sick when I turn down pizza. Lol                                                    |\n",
            "|ham |Lol your always so convincing.                                                                                                                                                                      |\n",
            "|ham |Did you catch the bus ? Are you frying an egg ? Did you make a tea? Are you eating your mom's left over dinner ? Do you feel my Love ?                                                              |\n",
            "|ham |I'm back &amp; we're packing the car now, I'll let you know if there's room                                                                                                                         |\n",
            "|ham |Ahhh. Work. I vaguely remember that! What does it feel like? Lol                                                                                                                                    |\n",
            "|ham |Wait that's still not all that clear, were you not sure about me being sarcastic or that that's why x doesn't want to live with us                                                                  |\n",
            "|ham |Yeah he got in at 2 and was v apologetic. n had fallen out and she was actin like spoilt child and he got caught up in that. Till 2! But we won't go there! Not doing too badly cheers. You?        |\n",
            "|ham |K tell me anything about you.                                                                                                                                                                       |\n",
            "|ham |For fear of fainting with the of all that housework you just did? Quick have a cuppa                                                                                                                |\n",
            "|spam|Thanks for your subscription to Ringtone UK your mobile will be charged £5/month Please confirm by replying YES or NO. If you reply NO you will not be charged                                      |\n",
            "|ham |Yup... Ok i go home look at the timings then i msg ü again... Xuhui going to learn on 2nd may too but her lesson is at 8am                                                                          |\n",
            "|ham |Oops, I'll let you know when my roommate's done                                                                                                                                                     |\n",
            "|ham |I see the letter B on my car                                                                                                                                                                        |\n",
            "|ham |Anything lor... U decide...                                                                                                                                                                         |\n",
            "|ham |Hello! How's you and how did saturday go? I was just texting to see if you'd decided to do anything tomo. Not that i'm trying to invite myself or anything!                                         |\n",
            "|ham |Pls go ahead with watts. I just wanted to be sure. Do have a great weekend. Abiola                                                                                                                  |\n",
            "|ham |Did I forget to tell you ? I want you , I need you, I crave you ... But most of all ... I love you my sweet Arabian steed ... Mmmmmm ... Yummy                                                      |\n",
            "|spam|07732584351 - Rodger Burns - MSG = We tried to call you re your reply to our sms for a free nokia mobile + free camcorder. Please call now 08000930705 for delivery tomorrow                        |\n",
            "|ham |WHO ARE YOU SEEING?                                                                                                                                                                                 |\n",
            "|ham |Great! I hope you like your man well endowed. I am  &lt;#&gt;  inches...                                                                                                                            |\n",
            "|ham |No calls..messages..missed calls                                                                                                                                                                    |\n",
            "|ham |Didn't you get hep b immunisation in nigeria.                                                                                                                                                       |\n",
            "|ham |Fair enough, anything going on?                                                                                                                                                                     |\n",
            "|ham |Yeah hopefully, if tyler can't do it I could maybe ask around a bit                                                                                                                                 |\n",
            "|ham |U don't know how stubborn I am. I didn't even want to go to the hospital. I kept telling Mark I'm not a weak sucker. Hospitals are for weak suckers.                                                |\n",
            "+----+----------------------------------------------------------------------------------------------------------------------------------------------------------------------------------------------------+\n",
            "only showing top 50 rows\n",
            "\n"
          ],
          "name": "stdout"
        }
      ]
    },
    {
      "cell_type": "code",
      "metadata": {
        "id": "0y6Njc9s_eRC"
      },
      "source": [
        "df.createOrReplaceTempView('table')"
      ],
      "execution_count": 15,
      "outputs": []
    },
    {
      "cell_type": "markdown",
      "metadata": {
        "id": "2nwAXiKiPZyx"
      },
      "source": [
        "## SQL Queries with Spark"
      ]
    },
    {
      "cell_type": "markdown",
      "metadata": {
        "id": "aSMxi5CSA2ZS"
      },
      "source": [
        "## 1. How many rows are there is this data frame? 5574 rows."
      ]
    },
    {
      "cell_type": "code",
      "metadata": {
        "id": "MQqRsrDy_xIU",
        "outputId": "92ff9012-c874-48e3-b3be-918940e6fab3",
        "colab": {
          "base_uri": "https://localhost:8080/"
        }
      },
      "source": [
        "spark.sql(\"select count(*) \\\n",
        "          from table \").show()"
      ],
      "execution_count": 16,
      "outputs": [
        {
          "output_type": "stream",
          "text": [
            "+--------+\n",
            "|count(1)|\n",
            "+--------+\n",
            "|    5574|\n",
            "+--------+\n",
            "\n"
          ],
          "name": "stdout"
        }
      ]
    },
    {
      "cell_type": "markdown",
      "metadata": {
        "id": "7S_BL3xmPplx"
      },
      "source": [
        "## Clean and Prepare the Data"
      ]
    },
    {
      "cell_type": "code",
      "metadata": {
        "id": "JDLapp_4LR1o"
      },
      "source": [
        "df=df.withColumnRenamed('_c0','class').withColumnRenamed('_c1','text')"
      ],
      "execution_count": 17,
      "outputs": []
    },
    {
      "cell_type": "code",
      "metadata": {
        "id": "nqKtfT77L2Vy",
        "outputId": "6bea54fb-27fa-4f61-9cbd-8c91bafdbce7",
        "colab": {
          "base_uri": "https://localhost:8080/"
        }
      },
      "source": [
        "df.show(truncate=False)"
      ],
      "execution_count": 18,
      "outputs": [
        {
          "output_type": "stream",
          "text": [
            "+-----+----------------------------------------------------------------------------------------------------------------------------------------------------------------------------------------------------+\n",
            "|class|text                                                                                                                                                                                                |\n",
            "+-----+----------------------------------------------------------------------------------------------------------------------------------------------------------------------------------------------------+\n",
            "|ham  |Go until jurong point, crazy.. Available only in bugis n great world la e buffet... Cine there got amore wat...                                                                                     |\n",
            "|ham  |Ok lar... Joking wif u oni...                                                                                                                                                                       |\n",
            "|spam |Free entry in 2 a wkly comp to win FA Cup final tkts 21st May 2005. Text FA to 87121 to receive entry question(std txt rate)T&C's apply 08452810075over18's                                         |\n",
            "|ham  |U dun say so early hor... U c already then say...                                                                                                                                                   |\n",
            "|ham  |Nah I don't think he goes to usf, he lives around here though                                                                                                                                       |\n",
            "|spam |FreeMsg Hey there darling it's been 3 week's now and no word back! I'd like some fun you up for it still? Tb ok! XxX std chgs to send, £1.50 to rcv                                                 |\n",
            "|ham  |Even my brother is not like to speak with me. They treat me like aids patent.                                                                                                                       |\n",
            "|ham  |As per your request 'Melle Melle (Oru Minnaminunginte Nurungu Vettam)' has been set as your callertune for all Callers. Press *9 to copy your friends Callertune                                    |\n",
            "|spam |WINNER!! As a valued network customer you have been selected to receivea £900 prize reward! To claim call 09061701461. Claim code KL341. Valid 12 hours only.                                       |\n",
            "|spam |Had your mobile 11 months or more? U R entitled to Update to the latest colour mobiles with camera for Free! Call The Mobile Update Co FREE on 08002986030                                          |\n",
            "|ham  |I'm gonna be home soon and i don't want to talk about this stuff anymore tonight, k? I've cried enough today.                                                                                       |\n",
            "|spam |SIX chances to win CASH! From 100 to 20,000 pounds txt> CSH11 and send to 87575. Cost 150p/day, 6days, 16+ TsandCs apply Reply HL 4 info                                                            |\n",
            "|spam |URGENT! You have won a 1 week FREE membership in our £100,000 Prize Jackpot! Txt the word: CLAIM to No: 81010 T&C www.dbuk.net LCCLTD POBOX 4403LDNW1A7RW18                                         |\n",
            "|ham  |I've been searching for the right words to thank you for this breather. I promise i wont take your help for granted and will fulfil my promise. You have been wonderful and a blessing at all times.|\n",
            "|ham  |I HAVE A DATE ON SUNDAY WITH WILL!!                                                                                                                                                                 |\n",
            "|spam |XXXMobileMovieClub: To use your credit, click the WAP link in the next txt message or click here>> http://wap. xxxmobilemovieclub.com?n=QJKGIGHJJGCBL                                               |\n",
            "|ham  |Oh k...i'm watching here:)                                                                                                                                                                          |\n",
            "|ham  |Eh u remember how 2 spell his name... Yes i did. He v naughty make until i v wet.                                                                                                                   |\n",
            "|ham  |Fine if thats the way u feel. Thats the way its gota b                                                                                                                                            |\n",
            "|spam |England v Macedonia - dont miss the goals/team news. Txt ur national team to 87077 eg ENGLAND to 87077 Try:WALES, SCOTLAND 4txt/ú1.20 POBOXox36504W45WQ 16+                                         |\n",
            "+-----+----------------------------------------------------------------------------------------------------------------------------------------------------------------------------------------------------+\n",
            "only showing top 20 rows\n",
            "\n"
          ],
          "name": "stdout"
        }
      ]
    },
    {
      "cell_type": "code",
      "metadata": {
        "id": "WsUhj_BzCZKw"
      },
      "source": [
        "df.createOrReplaceTempView('t')"
      ],
      "execution_count": 19,
      "outputs": []
    },
    {
      "cell_type": "markdown",
      "metadata": {
        "id": "Hh5pEQtnPy5i"
      },
      "source": [
        "## More Queries"
      ]
    },
    {
      "cell_type": "markdown",
      "metadata": {
        "id": "QG0rT6YmERhw"
      },
      "source": [
        "# 2. How many word \"Love\" were in data? 167 "
      ]
    },
    {
      "cell_type": "code",
      "metadata": {
        "id": "oQEleEbHD2ba",
        "outputId": "5d53aa3b-a8ad-4e17-97d2-3a3deb294fa7",
        "colab": {
          "base_uri": "https://localhost:8080/"
        }
      },
      "source": [
        "spark.sql(\"SELECT count(*) FROM t \\\n",
        "          WHERE text LIKE '%love%';\").show()"
      ],
      "execution_count": 20,
      "outputs": [
        {
          "output_type": "stream",
          "text": [
            "+--------+\n",
            "|count(1)|\n",
            "+--------+\n",
            "|     167|\n",
            "+--------+\n",
            "\n"
          ],
          "name": "stdout"
        }
      ]
    },
    {
      "cell_type": "markdown",
      "metadata": {
        "id": "4jZpz2weFYSF"
      },
      "source": [
        "# 3. How many sentences there were where they had \"I love you \" in that text in the data ? 19 messages had this sentences."
      ]
    },
    {
      "cell_type": "code",
      "metadata": {
        "id": "K01B6EaRD3MA",
        "outputId": "504b47be-37a6-41d3-8ab1-e1bcda994114",
        "colab": {
          "base_uri": "https://localhost:8080/"
        }
      },
      "source": [
        "spark.sql(\"SELECT count(*) FROM t \\\n",
        "          WHERE text LIKE '%I love you%';\").show()"
      ],
      "execution_count": 21,
      "outputs": [
        {
          "output_type": "stream",
          "text": [
            "+--------+\n",
            "|count(1)|\n",
            "+--------+\n",
            "|      19|\n",
            "+--------+\n",
            "\n"
          ],
          "name": "stdout"
        }
      ]
    },
    {
      "cell_type": "markdown",
      "metadata": {
        "id": "-prm-PSZFNJz"
      },
      "source": [
        "# 4. What was the class detected that \"I love you\" sentences were in those texts? All were observed as a Ham sms."
      ]
    },
    {
      "cell_type": "code",
      "metadata": {
        "id": "WWe3Yrp0Epzy",
        "outputId": "16210ceb-e45e-42ae-b214-f45f276d6792",
        "colab": {
          "base_uri": "https://localhost:8080/"
        }
      },
      "source": [
        "spark.sql(\"SELECT * FROM t \\\n",
        "          WHERE text LIKE '%I love you%';\").show()"
      ],
      "execution_count": 22,
      "outputs": [
        {
          "output_type": "stream",
          "text": [
            "+-----+--------------------+\n",
            "|class|                text|\n",
            "+-----+--------------------+\n",
            "|  ham|Did I forget to t...|\n",
            "|  ham|Hello my boytoy ....|\n",
            "|  ham|Geeeee ... I love...|\n",
            "|  ham|I wonder if your ...|\n",
            "|  ham|Wow ... I love yo...|\n",
            "|  ham|I love you. You s...|\n",
            "|  ham|Do have a nice da...|\n",
            "|  ham|I love your ass! ...|\n",
            "|  ham|Hey ! I want you ...|\n",
            "|  ham|BABE !!! I miiiii...|\n",
            "|  ham|I thank you so mu...|\n",
            "|  ham|Mmmmm ... It was ...|\n",
            "|  ham|I love you both t...|\n",
            "|  ham|Hey loverboy! I l...|\n",
            "|  ham|I love you !!! Yo...|\n",
            "|  ham|I miss you so muc...|\n",
            "|  ham|Mmmmmm ... I love...|\n",
            "|  ham|Don't forget thou...|\n",
            "|  ham|I wish things wer...|\n",
            "+-----+--------------------+\n",
            "\n"
          ],
          "name": "stdout"
        }
      ]
    },
    {
      "cell_type": "markdown",
      "metadata": {
        "id": "cs7GE86CJDhe"
      },
      "source": [
        "# 5. How many textx messages were Spam and also there was using the word \"lick\" in it? Thre were 4 Spam messages in total that has been using the word \"lick\" in it."
      ]
    },
    {
      "cell_type": "code",
      "metadata": {
        "id": "WXFuHOFzGLZx",
        "outputId": "c37cdc18-328e-436e-b321-5610622c1691",
        "colab": {
          "base_uri": "https://localhost:8080/"
        }
      },
      "source": [
        "spark.sql(\"SELECT count(class) FROM t \\\n",
        "          WHERE t.class=='spam' AND t.text LIKE '%lick%' \").show()"
      ],
      "execution_count": 23,
      "outputs": [
        {
          "output_type": "stream",
          "text": [
            "+------------+\n",
            "|count(class)|\n",
            "+------------+\n",
            "|           4|\n",
            "+------------+\n",
            "\n"
          ],
          "name": "stdout"
        }
      ]
    },
    {
      "cell_type": "code",
      "metadata": {
        "id": "VZaCNFonMDoO"
      },
      "source": [
        "from pyspark.sql.functions import length"
      ],
      "execution_count": 24,
      "outputs": []
    },
    {
      "cell_type": "markdown",
      "metadata": {
        "id": "a39EFNW7QBl_"
      },
      "source": [
        "## Applying the Length Function on Each Text"
      ]
    },
    {
      "cell_type": "code",
      "metadata": {
        "id": "aFlrFVH8MP-9"
      },
      "source": [
        "df=df.withColumn('length',length(df['text']))"
      ],
      "execution_count": 25,
      "outputs": []
    },
    {
      "cell_type": "code",
      "metadata": {
        "id": "10Eb2azzMewM",
        "outputId": "f15b0210-791c-41c2-a34b-8cdcd638d07e",
        "colab": {
          "base_uri": "https://localhost:8080/"
        }
      },
      "source": [
        "df.show()"
      ],
      "execution_count": 26,
      "outputs": [
        {
          "output_type": "stream",
          "text": [
            "+-----+--------------------+------+\n",
            "|class|                text|length|\n",
            "+-----+--------------------+------+\n",
            "|  ham|Go until jurong p...|   111|\n",
            "|  ham|Ok lar... Joking ...|    29|\n",
            "| spam|Free entry in 2 a...|   155|\n",
            "|  ham|U dun say so earl...|    49|\n",
            "|  ham|Nah I don't think...|    61|\n",
            "| spam|FreeMsg Hey there...|   147|\n",
            "|  ham|Even my brother i...|    77|\n",
            "|  ham|As per your reque...|   160|\n",
            "| spam|WINNER!! As a val...|   157|\n",
            "| spam|Had your mobile 1...|   154|\n",
            "|  ham|I'm gonna be home...|   109|\n",
            "| spam|SIX chances to wi...|   136|\n",
            "| spam|URGENT! You have ...|   155|\n",
            "|  ham|I've been searchi...|   196|\n",
            "|  ham|I HAVE A DATE ON ...|    35|\n",
            "| spam|XXXMobileMovieClu...|   149|\n",
            "|  ham|Oh k...i'm watchi...|    26|\n",
            "|  ham|Eh u remember how...|    81|\n",
            "|  ham|Fine if thats th...|    56|\n",
            "| spam|England v Macedon...|   155|\n",
            "+-----+--------------------+------+\n",
            "only showing top 20 rows\n",
            "\n"
          ],
          "name": "stdout"
        }
      ]
    },
    {
      "cell_type": "markdown",
      "metadata": {
        "id": "AmNQZcAMQUFn"
      },
      "source": [
        "## Clearly the Ham Messages Have a Lower Length than the Spam Messages"
      ]
    },
    {
      "cell_type": "code",
      "metadata": {
        "id": "RTAJcooQMk1Q",
        "outputId": "74987b00-9ff0-48e4-d56e-11b0d66d4bbd",
        "colab": {
          "base_uri": "https://localhost:8080/"
        }
      },
      "source": [
        "df.groupby('class').mean().show()"
      ],
      "execution_count": null,
      "outputs": [
        {
          "output_type": "stream",
          "text": [
            "+-----+-----------------+\n",
            "|class|      avg(length)|\n",
            "+-----+-----------------+\n",
            "|  ham|71.45431945307645|\n",
            "| spam|138.6706827309237|\n",
            "+-----+-----------------+\n",
            "\n"
          ],
          "name": "stdout"
        }
      ]
    },
    {
      "cell_type": "markdown",
      "metadata": {
        "id": "XWM66KpmQneZ"
      },
      "source": [
        "## Importing the Needed Libraries "
      ]
    },
    {
      "cell_type": "code",
      "metadata": {
        "id": "khsun5tyN0B-"
      },
      "source": [
        "# Needed libraries\n",
        "import matplotlib.pyplot as plt\n",
        "import pandas as pd\n",
        "import numpy as np\n",
        "import seaborn as sns\n",
        "%matplotlib inline\n"
      ],
      "execution_count": 27,
      "outputs": []
    },
    {
      "cell_type": "code",
      "metadata": {
        "id": "2Q4btrjyOHBZ"
      },
      "source": [
        "df_pandas=df.toPandas()"
      ],
      "execution_count": 28,
      "outputs": []
    },
    {
      "cell_type": "markdown",
      "metadata": {
        "id": "lpCxnFLFKhSu"
      },
      "source": [
        "## Clearly it is showing in both histograms that the Spams mostly are more than 150 words in case the most Ham texts are less than 150 words."
      ]
    },
    {
      "cell_type": "markdown",
      "metadata": {
        "id": "6wwHvs2EQ2Cr"
      },
      "source": [
        "# Histograms\n"
      ]
    },
    {
      "cell_type": "code",
      "metadata": {
        "id": "MXS5t1-iO5SJ",
        "outputId": "1a955a01-1e83-4c22-ba2d-6c280a504d77",
        "colab": {
          "base_uri": "https://localhost:8080/",
          "height": 387
        }
      },
      "source": [
        "plt.figure(figsize=(20,8))\n",
        "sns.displot(df_pandas, x='length', hue=\"class\",bins=30,alpha=.6,multiple=\"dodge\",col='class')\n",
        "plt.show()\n"
      ],
      "execution_count": 30,
      "outputs": [
        {
          "output_type": "display_data",
          "data": {
            "text/plain": [
              "<Figure size 1440x576 with 0 Axes>"
            ]
          },
          "metadata": {
            "tags": []
          }
        },
        {
          "output_type": "display_data",
          "data": {
            "image/png": "[encoded data removed]",
            "text/plain": [
              "<Figure size 783.25x360 with 2 Axes>"
            ]
          },
          "metadata": {
            "tags": [],
            "needs_background": "light"
          }
        }
      ]
    },
    {
      "cell_type": "markdown",
      "metadata": {
        "id": "pIfZxBhzQ-CY"
      },
      "source": [
        "# Ham Vs Spam"
      ]
    },
    {
      "cell_type": "code",
      "metadata": {
        "id": "an2P9eHHP2oI",
        "outputId": "26c686ee-f905-47b3-e8a7-f32835d53246",
        "colab": {
          "base_uri": "https://localhost:8080/",
          "height": 387
        }
      },
      "source": [
        "plt.figure(figsize=(20,8))\n",
        "sns.displot(df_pandas, x='length', hue=\"class\",bins=50,alpha=.6,multiple=\"dodge\", binwidth=10)\n",
        "plt.show()"
      ],
      "execution_count": 32,
      "outputs": [
        {
          "output_type": "display_data",
          "data": {
            "text/plain": [
              "<Figure size 1440x576 with 0 Axes>"
            ]
          },
          "metadata": {
            "tags": []
          }
        },
        {
          "output_type": "display_data",
          "data": {
            "image/png": "[encoded data removed]",
            "text/plain": [
              "<Figure size 423.25x360 with 1 Axes>"
            ]
          },
          "metadata": {
            "tags": [],
            "needs_background": "light"
          }
        }
      ]
    },
    {
      "cell_type": "markdown",
      "metadata": {
        "id": "Rq0s5L35RE4L"
      },
      "source": [
        "## Distribution of the Features "
      ]
    },
    {
      "cell_type": "code",
      "metadata": {
        "id": "VnJ9vvxXaMkn",
        "outputId": "adfaeb2a-e738-4108-9bb0-464a10910bda",
        "colab": {
          "base_uri": "https://localhost:8080/",
          "height": 387
        }
      },
      "source": [
        "sns.displot(df_pandas, x='length', kind=\"kde\",hue='class',multiple=\"stack\")"
      ],
      "execution_count": 33,
      "outputs": [
        {
          "output_type": "execute_result",
          "data": {
            "text/plain": [
              "<seaborn.axisgrid.FacetGrid at 0x7f3b926fa898>"
            ]
          },
          "metadata": {
            "tags": []
          },
          "execution_count": 33
        },
        {
          "output_type": "display_data",
          "data": {
            "image/png": "[encoded data removed]",
            "text/plain": [
              "<Figure size 423.25x360 with 1 Axes>"
            ]
          },
          "metadata": {
            "tags": [],
            "needs_background": "light"
          }
        }
      ]
    },
    {
      "cell_type": "markdown",
      "metadata": {
        "id": "P1J5iVJlK961"
      },
      "source": [
        "# Feature Transfromation"
      ]
    },
    {
      "cell_type": "markdown",
      "metadata": {
        "id": "nTqq1j_uRUVz"
      },
      "source": [
        "## Tokenizer,StopWordsRemover,CountVectorizer,IDF,StringIndexer"
      ]
    },
    {
      "cell_type": "code",
      "metadata": {
        "id": "VwXwvZL9kwoE"
      },
      "source": [
        "from pyspark.ml.feature import Tokenizer,StopWordsRemover,CountVectorizer,IDF,StringIndexer"
      ],
      "execution_count": 35,
      "outputs": []
    },
    {
      "cell_type": "code",
      "metadata": {
        "id": "jnpzxX1DlBek"
      },
      "source": [
        "tokenizer = Tokenizer(inputCol=\"text\", outputCol=\"token_text\")\n",
        "stopremove = StopWordsRemover(inputCol='token_text',outputCol='stop_tokens')\n",
        "count_vec = CountVectorizer(inputCol='stop_tokens',outputCol='c_vec')\n",
        "idf = IDF(inputCol=\"c_vec\", outputCol=\"tf_idf\")\n",
        "ham_spam_to_num = StringIndexer(inputCol='class',outputCol='label')"
      ],
      "execution_count": 36,
      "outputs": []
    },
    {
      "cell_type": "code",
      "metadata": {
        "id": "k9J9b4BbnFCy"
      },
      "source": [
        "from pyspark.ml.feature import VectorAssembler\n",
        "from pyspark.ml.linalg import Vector"
      ],
      "execution_count": 37,
      "outputs": []
    },
    {
      "cell_type": "markdown",
      "metadata": {
        "id": "dwMPa73_LHKf"
      },
      "source": [
        "# Clean Up the Data"
      ]
    },
    {
      "cell_type": "code",
      "metadata": {
        "id": "FQhwlTdRnQSV"
      },
      "source": [
        "cleanedData = VectorAssembler(inputCols=['tf_idf','length'],outputCol='features')"
      ],
      "execution_count": 42,
      "outputs": []
    },
    {
      "cell_type": "markdown",
      "metadata": {
        "id": "D1iB6actLLoj"
      },
      "source": [
        "# Model"
      ]
    },
    {
      "cell_type": "markdown",
      "metadata": {
        "id": "LaYMDdxYLQrw"
      },
      "source": [
        "# Naive Bayes"
      ]
    },
    {
      "cell_type": "code",
      "metadata": {
        "id": "JvKMFMR4nwyx"
      },
      "source": [
        "from pyspark.ml.classification import NaiveBayes"
      ],
      "execution_count": 43,
      "outputs": []
    },
    {
      "cell_type": "code",
      "metadata": {
        "id": "FpW7pn2Wn0uu"
      },
      "source": [
        "# Use defaults\n",
        "nb = NaiveBayes()"
      ],
      "execution_count": 44,
      "outputs": []
    },
    {
      "cell_type": "markdown",
      "metadata": {
        "id": "raRsujxyLVWv"
      },
      "source": [
        "# Pipeline"
      ]
    },
    {
      "cell_type": "code",
      "metadata": {
        "id": "a_PuM55Bn-ql"
      },
      "source": [
        "from pyspark.ml import Pipeline"
      ],
      "execution_count": 39,
      "outputs": []
    },
    {
      "cell_type": "code",
      "metadata": {
        "id": "5n6NdZiDoCkg"
      },
      "source": [
        "data_prep_pipe = Pipeline(stages=[ham_spam_to_num,tokenizer,stopremove,count_vec,idf,cleanedData])"
      ],
      "execution_count": 45,
      "outputs": []
    },
    {
      "cell_type": "code",
      "metadata": {
        "id": "cQqM59agoLdF"
      },
      "source": [
        "cleaner = data_prep_pipe.fit(df)"
      ],
      "execution_count": 46,
      "outputs": []
    },
    {
      "cell_type": "code",
      "metadata": {
        "id": "j3sJxp06oOsX"
      },
      "source": [
        "clean_data = cleaner.transform(df)"
      ],
      "execution_count": 47,
      "outputs": []
    },
    {
      "cell_type": "markdown",
      "metadata": {
        "id": "Sa2fulIJLg-q"
      },
      "source": [
        "# Train and Evaluation"
      ]
    },
    {
      "cell_type": "code",
      "metadata": {
        "id": "ikzRCXcCqOba",
        "outputId": "81632896-c7cb-4ff7-9866-b8580a13b198",
        "colab": {
          "base_uri": "https://localhost:8080/"
        }
      },
      "source": [
        "clean_data.show()"
      ],
      "execution_count": 48,
      "outputs": [
        {
          "output_type": "stream",
          "text": [
            "+-----+--------------------+------+-----+--------------------+--------------------+--------------------+--------------------+--------------------+\n",
            "|class|                text|length|label|          token_text|         stop_tokens|               c_vec|              tf_idf|            features|\n",
            "+-----+--------------------+------+-----+--------------------+--------------------+--------------------+--------------------+--------------------+\n",
            "|  ham|Go until jurong p...|   111|  0.0|[go, until, juron...|[go, jurong, poin...|(13423,[7,11,31,6...|(13423,[7,11,31,6...|(13424,[7,11,31,6...|\n",
            "|  ham|Ok lar... Joking ...|    29|  0.0|[ok, lar..., joki...|[ok, lar..., joki...|(13423,[0,24,297,...|(13423,[0,24,297,...|(13424,[0,24,297,...|\n",
            "| spam|Free entry in 2 a...|   155|  1.0|[free, entry, in,...|[free, entry, 2, ...|(13423,[2,13,19,3...|(13423,[2,13,19,3...|(13424,[2,13,19,3...|\n",
            "|  ham|U dun say so earl...|    49|  0.0|[u, dun, say, so,...|[u, dun, say, ear...|(13423,[0,70,80,1...|(13423,[0,70,80,1...|(13424,[0,70,80,1...|\n",
            "|  ham|Nah I don't think...|    61|  0.0|[nah, i, don't, t...|[nah, think, goes...|(13423,[36,134,31...|(13423,[36,134,31...|(13424,[36,134,31...|\n",
            "| spam|FreeMsg Hey there...|   147|  1.0|[freemsg, hey, th...|[freemsg, hey, da...|(13423,[10,60,139...|(13423,[10,60,139...|(13424,[10,60,139...|\n",
            "|  ham|Even my brother i...|    77|  0.0|[even, my, brothe...|[even, brother, l...|(13423,[10,53,103...|(13423,[10,53,103...|(13424,[10,53,103...|\n",
            "|  ham|As per your reque...|   160|  0.0|[as, per, your, r...|[per, request, 'm...|(13423,[125,184,4...|(13423,[125,184,4...|(13424,[125,184,4...|\n",
            "| spam|WINNER!! As a val...|   157|  1.0|[winner!!, as, a,...|[winner!!, valued...|(13423,[1,47,118,...|(13423,[1,47,118,...|(13424,[1,47,118,...|\n",
            "| spam|Had your mobile 1...|   154|  1.0|[had, your, mobil...|[mobile, 11, mont...|(13423,[0,1,13,27...|(13423,[0,1,13,27...|(13424,[0,1,13,27...|\n",
            "|  ham|I'm gonna be home...|   109|  0.0|[i'm, gonna, be, ...|[gonna, home, soo...|(13423,[18,43,120...|(13423,[18,43,120...|(13424,[18,43,120...|\n",
            "| spam|SIX chances to wi...|   136|  1.0|[six, chances, to...|[six, chances, wi...|(13423,[8,17,37,8...|(13423,[8,17,37,8...|(13424,[8,17,37,8...|\n",
            "| spam|URGENT! You have ...|   155|  1.0|[urgent!, you, ha...|[urgent!, won, 1,...|(13423,[13,30,47,...|(13423,[13,30,47,...|(13424,[13,30,47,...|\n",
            "|  ham|I've been searchi...|   196|  0.0|[i've, been, sear...|[searching, right...|(13423,[39,96,217...|(13423,[39,96,217...|(13424,[39,96,217...|\n",
            "|  ham|I HAVE A DATE ON ...|    35|  0.0|[i, have, a, date...|[date, sunday, wi...|(13423,[552,1697,...|(13423,[552,1697,...|(13424,[552,1697,...|\n",
            "| spam|XXXMobileMovieClu...|   149|  1.0|[xxxmobilemoviecl...|[xxxmobilemoviecl...|(13423,[30,109,11...|(13423,[30,109,11...|(13424,[30,109,11...|\n",
            "|  ham|Oh k...i'm watchi...|    26|  0.0|[oh, k...i'm, wat...|[oh, k...i'm, wat...|(13423,[82,214,47...|(13423,[82,214,47...|(13424,[82,214,47...|\n",
            "|  ham|Eh u remember how...|    81|  0.0|[eh, u, remember,...|[eh, u, remember,...|(13423,[0,2,49,13...|(13423,[0,2,49,13...|(13424,[0,2,49,13...|\n",
            "|  ham|Fine if thats th...|    56|  0.0|[fine, if, thats...|[fine, thats, wa...|(13423,[0,74,105,...|(13423,[0,74,105,...|(13424,[0,74,105,...|\n",
            "| spam|England v Macedon...|   155|  1.0|[england, v, mace...|[england, v, mace...|(13423,[4,30,33,5...|(13423,[4,30,33,5...|(13424,[4,30,33,5...|\n",
            "+-----+--------------------+------+-----+--------------------+--------------------+--------------------+--------------------+--------------------+\n",
            "only showing top 20 rows\n",
            "\n"
          ],
          "name": "stdout"
        }
      ]
    },
    {
      "cell_type": "code",
      "metadata": {
        "id": "VicTBAj4qTNw"
      },
      "source": [
        "clean_data = clean_data.select(['label','features'])"
      ],
      "execution_count": 49,
      "outputs": []
    },
    {
      "cell_type": "markdown",
      "metadata": {
        "id": "dqd3gyuHLocv"
      },
      "source": [
        "# Vectorized Data, Ready ti fit the Model"
      ]
    },
    {
      "cell_type": "code",
      "metadata": {
        "id": "_4FKmiFLqaww",
        "outputId": "5ebbe359-c005-41e3-acaf-18963345de2e",
        "colab": {
          "base_uri": "https://localhost:8080/"
        }
      },
      "source": [
        "clean_data.show(40,truncate=False)"
      ],
      "execution_count": 50,
      "outputs": [
        {
          "output_type": "stream",
          "text": [
            "+-----+--------------------------------------------------------------------------------------------------------------------------------------------------------------------------------------------------------------------------------------------------------------------------------------------------------------------------------------------------------------------------------------------------------------------------------------------------------------------------------------------------------+\n",
            "|label|features                                                                                                                                                                                                                                                                                                                                                                                                                                                                                                |\n",
            "+-----+--------------------------------------------------------------------------------------------------------------------------------------------------------------------------------------------------------------------------------------------------------------------------------------------------------------------------------------------------------------------------------------------------------------------------------------------------------------------------------------------------------+\n",
            "|0.0  |(13424,[7,11,31,61,72,344,625,731,1409,1598,4485,6440,8092,8838,11344,12979,13423],[3.1126188501633374,3.2055125970560336,3.822026551595063,4.207206988531722,4.32198250312415,5.407171771460119,5.917997395226109,6.141140946540319,6.680137447273006,6.8342881271002645,7.52743530766021,7.9329004157683745,7.9329004157683745,7.9329004157683745,7.9329004157683745,7.9329004157683745,111.0])                                                                                                       |\n",
            "|0.0  |(13424,[0,24,297,457,2601,3605,13423],[2.016698353160939,3.5761915890787823,5.330210730323991,5.7356758384321544,7.239753235208429,7.52743530766021,29.0])                                                                                                                                                                                                                                                                                                                                              |\n",
            "|1.0  |(13424,[2,13,19,30,89,154,193,305,458,515,631,855,954,1916,2010,2356,3023,3287,3442,5016,5200,13423],[2.704469176684504,3.332742771603827,3.5634525633013525,3.6702205387270586,4.421354976937353,4.841857962410058,5.099687071712158,11.070010285940008,5.681608617161879,5.7356758384321544,5.917997395226109,6.228152323529949,6.323462503334274,7.016609683894219,7.016609683894219,15.05487061532042,7.239753235208429,7.239753235208429,7.52743530766021,7.52743530766021,7.52743530766021,155.0])|\n",
            "|0.0  |(13424,[0,70,80,128,147,323,2911,3598,13423],[4.033396706321878,4.256599743861298,4.32198250312415,4.674803877746892,4.734227298217693,5.407171771460119,7.239753235208429,7.52743530766021,49.0])                                                                                                                                                                                                                                                                                                      |\n",
            "|0.0  |(13424,[36,134,313,545,1325,3302,3591,13423],[3.7977338590260183,4.7140245909001735,5.367951058306837,5.792834252272104,6.546606054648484,7.52743530766021,7.52743530766021,61.0])                                                                                                                                                                                                                                                                                                                      |\n",
            "|1.0  |(13424,[10,60,139,286,350,368,490,1363,1643,2091,2665,3625,3952,4446,4639,4641,5133,6169,13423],[3.2278848948105665,4.148710781850113,4.734227298217693,5.258751766341845,5.49055338039917,5.49055338039917,5.7356758384321544,6.680137447273006,6.8342881271002645,7.016609683894219,7.239753235208429,7.52743530766021,7.52743530766021,7.52743530766021,7.52743530766021,7.52743530766021,7.52743530766021,7.9329004157683745,147.0])                                                                |\n",
            "|0.0  |(13424,[10,53,103,243,622,749,8012,12636,13423],[6.455769789621133,4.0410801176577476,4.5151737321550085,5.160311693528593,5.917997395226109,6.061098238866783,7.9329004157683745,7.9329004157683745,77.0])                                                                                                                                                                                                                                                                                             |\n",
            "|0.0  |(13424,[125,184,409,913,925,950,1170,1596,1759,2560,2829,2887,2900,3108,3156,13423],[4.60069590559317,5.015129683684095,5.581525158604896,6.228152323529949,13.668576254200529,6.323462503334274,6.546606054648484,6.8342881271002645,6.8342881271002645,7.239753235208429,7.239753235208429,7.239753235208429,7.239753235208429,7.239753235208429,7.239753235208429,160.0])                                                                                                                            |\n",
            "|1.0  |(13424,[1,47,118,145,293,322,351,500,543,573,793,1108,1309,2597,3348,3911,3989,4909,13423],[2.3645559120072774,8.002149566088097,4.618714411095849,4.7140245909001735,5.293843086153116,5.367951058306837,5.447993765980374,5.7356758384321544,5.792834252272104,5.853458874088538,6.141140946540319,6.4288230189921,6.546606054648484,7.239753235208429,7.52743530766021,7.52743530766021,7.52743530766021,7.52743530766021,157.0])                                                                    |\n",
            "|1.0  |(13424,[0,1,13,27,38,196,282,369,391,414,875,1063,1188,1349,1860,2936,4140,13423],[2.016698353160939,2.3645559120072774,3.332742771603827,3.7060666705001943,7.81509745006645,5.04252865787221,5.258751766341845,11.585668504544207,5.535005142970004,5.581525158604896,6.228152323529949,6.4288230189921,6.546606054648484,6.546606054648484,6.8342881271002645,7.239753235208429,7.52743530766021,154.0])                                                                                             |\n",
            "|0.0  |(13424,[18,43,120,175,218,228,300,370,2483,5125,5349,10880,13423],[3.44989786375449,3.9165173950159855,4.58299632849377,4.888377978044951,5.099687071712158,5.129540034861839,5.293843086153116,5.49055338039917,7.239753235208429,7.52743530766021,7.52743530766021,7.9329004157683745,109.0])                                                                                                                                                                                                         |\n",
            "|1.0  |(13424,[8,17,37,89,281,374,439,515,539,1079,1445,2025,2258,3369,3599,3620,3828,3978,4031,4051,5145,13423],[3.145408672986328,3.411111838719334,3.872457405221955,4.421354976937353,5.258751766341845,5.49055338039917,5.630315322774329,5.7356758384321544,5.792834252272104,6.4288230189921,6.680137447273006,7.016609683894219,7.016609683894219,7.52743530766021,7.52743530766021,7.52743530766021,7.52743530766021,7.52743530766021,7.52743530766021,7.52743530766021,7.52743530766021,136.0])      |\n",
            "|1.0  |(13424,[13,30,47,87,99,100,118,161,499,525,667,985,2875,3472,3747,3820,4047,4525,4614,13423],[3.332742771603827,3.6702205387270586,4.001074783044048,4.3775523542789605,4.451660326432682,4.4671645129686475,4.618714411095849,4.841857962410058,5.7356758384321544,5.792834252272104,5.986990266713061,6.323462503334274,7.239753235208429,7.52743530766021,7.52743530766021,7.52743530766021,7.52743530766021,7.52743530766021,7.52743530766021,155.0])                                               |\n",
            "|0.0  |(13424,[39,96,217,221,289,586,629,1190,1809,2090,4108,4631,5390,5687,6572,13423],[3.7977338590260183,4.482912869936787,5.129540034861839,5.099687071712158,5.293843086153116,5.853458874088538,5.986990266713061,6.546606054648484,6.8342881271002645,7.016609683894219,7.52743530766021,7.52743530766021,7.9329004157683745,7.9329004157683745,7.9329004157683745,196.0])                                                                                                                              |\n",
            "|0.0  |(13424,[552,1697,11921,13423],[5.853458874088538,6.8342881271002645,7.9329004157683745,35.0])                                                                                                                                                                                                                                                                                                                                                                                                           |\n",
            "|1.0  |(13424,[30,109,111,173,1075,1254,1272,6001,6594,7155,7846,7924,13423],[3.6702205387270586,4.5485101524226,4.5485101524226,4.912475529624012,6.4288230189921,13.360274894546013,6.680137447273006,7.9329004157683745,7.9329004157683745,7.9329004157683745,7.9329004157683745,7.9329004157683745,149.0])                                                                                                                                                                                                 |\n",
            "|0.0  |(13424,[82,214,4741,6768,13423],[4.32198250312415,5.070699534838906,7.52743530766021,7.9329004157683745,26.0])                                                                                                                                                                                                                                                                                                                                                                                          |\n",
            "|0.0  |(13424,[0,2,49,132,198,271,778,1605,3117,4216,7764,12902,13423],[2.016698353160939,2.704469176684504,4.030927746193729,4.637063549764045,10.384120783686347,5.224850214666164,6.141140946540319,6.8342881271002645,7.239753235208429,7.52743530766021,7.9329004157683745,7.9329004157683745,81.0])                                                                                                                                                                                                      |\n",
            "|0.0  |(13424,[0,74,105,559,2313,10181,11255,13423],[2.016698353160939,8.590628512083978,4.498913211283228,5.853458874088538,14.479506470416858,7.9329004157683745,7.9329004157683745,56.0])                                                                                                                                                                                                                                                                                                                   |\n",
            "|1.0  |(13424,[4,30,33,59,78,198,374,728,839,1171,1298,3130,4103,7495,8307,8634,11774,12547,13012,13423],[2.892706319430574,3.6702205387270586,3.7508502731271682,4.231598441655881,4.363367719287004,5.192060391843174,5.49055338039917,6.061098238866783,6.141140946540319,13.360274894546013,13.668576254200529,7.239753235208429,7.52743530766021,7.9329004157683745,7.9329004157683745,7.9329004157683745,7.9329004157683745,7.9329004157683745,7.9329004157683745,155.0])                                |\n",
            "|0.0  |(13424,[2247,3117,11209,13423],[7.016609683894219,7.239753235208429,7.9329004157683745,41.0])                                                                                                                                                                                                                                                                                                                                                                                                           |\n",
            "|0.0  |(13424,[2,23,152,791,1349,1822,2601,13423],[2.704469176684504,3.5698017909800117,4.7758999946182605,13.668576254200529,6.546606054648484,6.8342881271002645,7.239753235208429,47.0])                                                                                                                                                                                                                                                                                                                    |\n",
            "|0.0  |(13424,[26,68,141,276,457,1801,7690,13423],[3.758513145872737,4.335588155179928,4.7140245909001735,5.367951058306837,5.7356758384321544,6.8342881271002645,7.9329004157683745,52.0])                                                                                                                                                                                                                                                                                                                    |\n",
            "|0.0  |(13424,[0,4,7,93,139,181,237,416,493,593,741,2414,13423],[2.016698353160939,2.892706319430574,3.1126188501633374,9.063406068212437,4.734227298217693,9.976922873203868,10.320623387057186,5.581525158604896,5.7356758384321544,5.917997395226109,6.061098238866783,7.239753235208429,88.0])                                                                                                                                                                                                             |\n",
            "|0.0  |(13424,[74,75,565,6417,6805,13423],[4.295314256041989,4.32198250312415,5.853458874088538,7.9329004157683745,7.9329004157683745,57.0])                                                                                                                                                                                                                                                                                                                                                                   |\n",
            "|0.0  |(13424,[71,112,150,227,885,983,1226,1300,1944,2680,2996,3063,3322,11747,12254,13423],[4.269338769638728,4.5317030341062186,4.754846585420428,5.160311693528593,6.228152323529949,6.4288230189921,6.546606054648484,6.546606054648484,7.016609683894219,7.239753235208429,7.239753235208429,7.239753235208429,7.52743530766021,7.9329004157683745,7.9329004157683745,144.0])                                                                                                                             |\n",
            "|0.0  |(13424,[112,129,13048,13423],[4.5317030341062186,4.60069590559317,7.9329004157683745,30.0])                                                                                                                                                                                                                                                                                                                                                                                                             |\n",
            "|0.0  |(13424,[16,21,49,115,315,333,365,990,1756,1956,3217,5202,10090,13423],[15.7756654768164,3.649313853907745,4.030927746193729,4.637063549764045,5.330210730323991,5.407171771460119,5.447993765980374,6.323462503334274,6.8342881271002645,7.016609683894219,7.52743530766021,7.52743530766021,7.9329004157683745,134.0])                                                                                                                                                                                 |\n",
            "|0.0  |(13424,[12,40,64,88,224,326,514,9155,13423],[3.2415525335392306,3.8553629718626548,4.406539891152213,4.39194109173106,5.099687071712158,5.407171771460119,5.7356758384321544,7.9329004157683745,75.0])                                                                                                                                                                                                                                                                                                  |\n",
            "|0.0  |(13424,[112,115,271,444,1212,2221,5742,8466,13423],[4.5317030341062186,4.637063549764045,5.224850214666164,5.630315322774329,6.546606054648484,7.016609683894219,7.9329004157683745,7.9329004157683745,64.0])                                                                                                                                                                                                                                                                                           |\n",
            "|0.0  |(13424,[18,28,123,130,133,156,190,3886,6755,13423],[3.44989786375449,3.615412302232064,4.60069590559317,4.694221963603994,4.637063549764045,5.070699534838906,5.04252865787221,7.52743530766021,7.9329004157683745,130.0])                                                                                                                                                                                                                                                                              |\n",
            "|0.0  |(13424,[2,7,10,11,31,104,198,273,345,362,1407,2622,2789,2984,4147,5565,5826,8037,8361,8381,13423],[2.704469176684504,3.1126188501633374,3.2278848948105665,6.411025194112067,3.822026551595063,4.4671645129686475,5.192060391843174,5.258751766341845,5.535005142970004,5.447993765980374,6.680137447273006,7.239753235208429,7.239753235208429,7.239753235208429,7.52743530766021,7.9329004157683745,7.9329004157683745,7.9329004157683745,7.9329004157683745,7.9329004157683745,189.0])               |\n",
            "|0.0  |(13424,[35,66,110,172,13423],[3.7356984681065657,4.2193283490640665,4.5151737321550085,4.937168142214383,29.0])                                                                                                                                                                                                                                                                                                                                                                                         |\n",
            "|0.0  |(13424,[1154,3161,9444,9560,11892,12813,13423],[6.4288230189921,7.239753235208429,7.9329004157683745,7.9329004157683745,7.9329004157683745,7.9329004157683745,84.0])                                                                                                                                                                                                                                                                                                                                    |\n",
            "|1.0  |(13424,[37,38,42,106,132,182,337,826,986,1076,1259,2038,6330,13423],[3.872457405221955,3.907548725033225,3.8553629718626548,4.5151737321550085,4.637063549764045,4.937168142214383,5.407171771460119,12.456304647059898,6.323462503334274,6.4288230189921,6.546606054648484,7.016609683894219,7.9329004157683745,158.0])                                                                                                                                                                                |\n",
            "|0.0  |(13424,[7,23,24,26,43,124,154,252,255,673,1250,1426,1463,2814,5641,11204,13423],[3.1126188501633374,3.5698017909800117,3.5761915890787823,3.758513145872737,3.9165173950159855,4.5656045857819,4.841857962410058,5.192060391843174,5.192060391843174,5.986990266713061,6.546606054648484,6.680137447273006,6.680137447273006,7.239753235208429,7.9329004157683745,7.9329004157683745,122.0])                                                                                                            |\n",
            "|0.0  |(13424,[12,88,274,4401,6664,13423],[3.2415525335392306,4.39194109173106,5.224850214666164,7.52743530766021,7.9329004157683745,47.0])                                                                                                                                                                                                                                                                                                                                                                    |\n",
            "|0.0  |(13424,[32,105,224,2836,13423],[3.649313853907745,4.498913211283228,5.099687071712158,7.239753235208429,28.0])                                                                                                                                                                                                                                                                                                                                                                                          |\n",
            "|0.0  |(13424,[0,110,127,8349,13423],[2.016698353160939,4.5151737321550085,4.60069590559317,7.9329004157683745,27.0])                                                                                                                                                                                                                                                                                                                                                                                          |\n",
            "|0.0  |(13424,[32,110,162,555,1271,1486,1683,2943,2965,3998,5154,13423],[3.649313853907745,4.5151737321550085,4.841857962410058,5.792834252272104,6.546606054648484,6.680137447273006,6.8342881271002645,7.239753235208429,7.239753235208429,7.52743530766021,7.52743530766021,155.0])                                                                                                                                                                                                                         |\n",
            "+-----+--------------------------------------------------------------------------------------------------------------------------------------------------------------------------------------------------------------------------------------------------------------------------------------------------------------------------------------------------------------------------------------------------------------------------------------------------------------------------------------------------------+\n",
            "only showing top 40 rows\n",
            "\n"
          ],
          "name": "stdout"
        }
      ]
    },
    {
      "cell_type": "markdown",
      "metadata": {
        "id": "C8rbmer8LxnD"
      },
      "source": [
        "# Split and Fitting the Data "
      ]
    },
    {
      "cell_type": "code",
      "metadata": {
        "id": "LDrdkgu4qc6j"
      },
      "source": [
        "(training,testing) = clean_data.randomSplit([0.7,0.3])"
      ],
      "execution_count": 51,
      "outputs": []
    },
    {
      "cell_type": "code",
      "metadata": {
        "id": "Uf-WTnrCq0pm"
      },
      "source": [
        "spam_predictor = nb.fit(training)"
      ],
      "execution_count": 52,
      "outputs": []
    },
    {
      "cell_type": "code",
      "metadata": {
        "id": "4yw79dmHq4Gp",
        "outputId": "e97cc72d-835d-4db3-9309-5c6ec624f882",
        "colab": {
          "base_uri": "https://localhost:8080/"
        }
      },
      "source": [
        "df.printSchema()"
      ],
      "execution_count": 53,
      "outputs": [
        {
          "output_type": "stream",
          "text": [
            "root\n",
            " |-- class: string (nullable = true)\n",
            " |-- text: string (nullable = true)\n",
            " |-- length: integer (nullable = true)\n",
            "\n"
          ],
          "name": "stdout"
        }
      ]
    },
    {
      "cell_type": "code",
      "metadata": {
        "id": "r9BEFG5kq8HU"
      },
      "source": [
        "test_results = spam_predictor.transform(testing)"
      ],
      "execution_count": 54,
      "outputs": []
    },
    {
      "cell_type": "code",
      "metadata": {
        "id": "LIr0A3ZwrC_j",
        "outputId": "94d5f6cf-de77-4c8d-e3c5-24045cfebe40",
        "colab": {
          "base_uri": "https://localhost:8080/"
        }
      },
      "source": [
        "test_results.show()"
      ],
      "execution_count": 55,
      "outputs": [
        {
          "output_type": "stream",
          "text": [
            "+-----+--------------------+--------------------+--------------------+----------+\n",
            "|label|            features|       rawPrediction|         probability|prediction|\n",
            "+-----+--------------------+--------------------+--------------------+----------+\n",
            "|  0.0|(13424,[0,1,14,31...|[-218.42139575785...|[1.0,4.1253117916...|       0.0|\n",
            "|  0.0|(13424,[0,1,20,27...|[-972.72274973886...|[1.0,4.8058041016...|       0.0|\n",
            "|  0.0|(13424,[0,1,21,27...|[-750.57452194974...|[1.0,7.5755951094...|       0.0|\n",
            "|  0.0|(13424,[0,1,23,63...|[-1309.8364942103...|[1.0,1.5935943591...|       0.0|\n",
            "|  0.0|(13424,[0,1,24,31...|[-356.23115975709...|[1.0,1.5083158009...|       0.0|\n",
            "|  0.0|(13424,[0,1,27,88...|[-1524.4837075990...|[1.03095559490770...|       1.0|\n",
            "|  0.0|(13424,[0,1,30,12...|[-600.50816776760...|[1.0,3.8787327375...|       0.0|\n",
            "|  0.0|(13424,[0,1,31,43...|[-337.80543485110...|[1.0,3.1063184408...|       0.0|\n",
            "|  0.0|(13424,[0,1,43,69...|[-630.13790402312...|[0.00181752980442...|       1.0|\n",
            "|  0.0|(13424,[0,1,46,17...|[-1138.9889265504...|[8.47185188356784...|       1.0|\n",
            "|  0.0|(13424,[0,1,72,10...|[-680.71295470136...|[1.0,1.4964461481...|       0.0|\n",
            "|  0.0|(13424,[0,1,874,1...|[-97.684060707401...|[0.99999998316042...|       0.0|\n",
            "|  0.0|(13424,[0,2,3,5,6...|[-2556.9300904702...|[1.0,3.8247939396...|       0.0|\n",
            "|  0.0|(13424,[0,2,3,6,9...|[-3284.9514767477...|[1.0,1.78751305E-...|       0.0|\n",
            "|  0.0|(13424,[0,2,4,5,7...|[-996.79951588224...|[1.0,9.2526890292...|       0.0|\n",
            "|  0.0|(13424,[0,2,4,5,1...|[-2484.8726201572...|[1.0,1.8603379715...|       0.0|\n",
            "|  0.0|(13424,[0,2,4,8,1...|[-1312.0648001828...|[1.0,8.8787844286...|       0.0|\n",
            "|  0.0|(13424,[0,2,4,11,...|[-1126.9645557754...|[1.0,1.4277000914...|       0.0|\n",
            "|  0.0|(13424,[0,2,7,11,...|[-738.60913759771...|[1.0,6.1012287779...|       0.0|\n",
            "|  0.0|(13424,[0,2,7,11,...|[-1315.8949170122...|[1.0,5.0725960155...|       0.0|\n",
            "+-----+--------------------+--------------------+--------------------+----------+\n",
            "only showing top 20 rows\n",
            "\n"
          ],
          "name": "stdout"
        }
      ]
    },
    {
      "cell_type": "code",
      "metadata": {
        "id": "fiCzghL2rFn7"
      },
      "source": [
        "from pyspark.ml.evaluation import MulticlassClassificationEvaluator"
      ],
      "execution_count": 56,
      "outputs": []
    },
    {
      "cell_type": "markdown",
      "metadata": {
        "id": "cXcCxkFmL_Yl"
      },
      "source": [
        "# Evaluation the Test Data"
      ]
    },
    {
      "cell_type": "code",
      "metadata": {
        "id": "ijs91v4ArSAc",
        "outputId": "0b0697fb-a4cf-4d7d-a4de-342f8d346108",
        "colab": {
          "base_uri": "https://localhost:8080/"
        }
      },
      "source": [
        "acc_eval = MulticlassClassificationEvaluator()\n",
        "acc = acc_eval.evaluate(test_results)\n",
        "print(\"Accuracy of model at predicting spam was: {:.2f}\".format(acc))"
      ],
      "execution_count": 57,
      "outputs": [
        {
          "output_type": "stream",
          "text": [
            "Accuracy of model at predicting spam was: 0.92\n"
          ],
          "name": "stdout"
        }
      ]
    },
    {
      "cell_type": "markdown",
      "metadata": {
        "id": "bwEa0wxCSMYa"
      },
      "source": [
        "## Found an accuracy of 92 % of our analysys. The model is ready for practicinfg on further sample messages in future."
      ]
    },
    {
      "cell_type": "code",
      "metadata": {
        "id": "o-4kyXgHSb0r"
      },
      "source": [
        ""
      ],
      "execution_count": null,
      "outputs": []
    }
  ]
}